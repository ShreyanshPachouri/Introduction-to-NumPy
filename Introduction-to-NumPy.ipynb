{
 "cells": [
  {
   "cell_type": "code",
   "execution_count": 1,
   "id": "a974aeb7-a2f3-4995-bc4f-53c81492dc36",
   "metadata": {},
   "outputs": [],
   "source": [
    "import numpy as np"
   ]
  },
  {
   "cell_type": "markdown",
   "id": "71aedba0-827f-4991-9ecf-dcafd2a03ca6",
   "metadata": {},
   "source": [
    "## **DataTypes and Attributes** "
   ]
  },
  {
   "cell_type": "code",
   "execution_count": 2,
   "id": "40d0afdb-c332-4c15-84dc-32254bc56a00",
   "metadata": {},
   "outputs": [
    {
     "data": {
      "text/plain": [
       "array([1, 2, 3])"
      ]
     },
     "execution_count": 2,
     "metadata": {},
     "output_type": "execute_result"
    }
   ],
   "source": [
    "#NumPy's main data type is an array of n dimensions.\n",
    "a1 = np.array([1,2,3])\n",
    "a1"
   ]
  },
  {
   "cell_type": "code",
   "execution_count": 3,
   "id": "7b1a1932-5dc3-4427-b91f-9ca9e5f6b532",
   "metadata": {},
   "outputs": [
    {
     "data": {
      "text/plain": [
       "numpy.ndarray"
      ]
     },
     "execution_count": 3,
     "metadata": {},
     "output_type": "execute_result"
    }
   ],
   "source": [
    "type(a1)"
   ]
  },
  {
   "cell_type": "code",
   "execution_count": 4,
   "id": "d839155d-221e-4a1d-b4e6-62a5bc2be841",
   "metadata": {},
   "outputs": [
    {
     "data": {
      "text/plain": [
       "(3,)"
      ]
     },
     "execution_count": 4,
     "metadata": {},
     "output_type": "execute_result"
    }
   ],
   "source": [
    "a1.shape\n",
    "# Shape gives the number of rows and columns an array contains in the format of (number of rows, number of columns). For 1-D arrays, shape = (Number of elements, )"
   ]
  },
  {
   "cell_type": "code",
   "execution_count": 5,
   "id": "8cf01f1f-3c81-4ce1-87bf-a9e5193c1a61",
   "metadata": {},
   "outputs": [
    {
     "data": {
      "text/plain": [
       "1"
      ]
     },
     "execution_count": 5,
     "metadata": {},
     "output_type": "execute_result"
    }
   ],
   "source": [
    "a1.ndim\n",
    "# ndim gives the number of dimensions of an array"
   ]
  },
  {
   "cell_type": "code",
   "execution_count": 6,
   "id": "ad9b40e9-0047-4def-9367-13bbc319266d",
   "metadata": {},
   "outputs": [
    {
     "data": {
      "text/plain": [
       "3"
      ]
     },
     "execution_count": 6,
     "metadata": {},
     "output_type": "execute_result"
    }
   ],
   "source": [
    "a1.size\n",
    "# Size gives us the number of elements present in the array"
   ]
  },
  {
   "cell_type": "code",
   "execution_count": 7,
   "id": "6a4a07de-afd3-4664-b49e-167feec35154",
   "metadata": {},
   "outputs": [
    {
     "data": {
      "text/html": [
       "<div>\n",
       "<style scoped>\n",
       "    .dataframe tbody tr th:only-of-type {\n",
       "        vertical-align: middle;\n",
       "    }\n",
       "\n",
       "    .dataframe tbody tr th {\n",
       "        vertical-align: top;\n",
       "    }\n",
       "\n",
       "    .dataframe thead th {\n",
       "        text-align: right;\n",
       "    }\n",
       "</style>\n",
       "<table border=\"1\" class=\"dataframe\">\n",
       "  <thead>\n",
       "    <tr style=\"text-align: right;\">\n",
       "      <th></th>\n",
       "      <th>0</th>\n",
       "    </tr>\n",
       "  </thead>\n",
       "  <tbody>\n",
       "    <tr>\n",
       "      <th>0</th>\n",
       "      <td>1</td>\n",
       "    </tr>\n",
       "    <tr>\n",
       "      <th>1</th>\n",
       "      <td>2</td>\n",
       "    </tr>\n",
       "    <tr>\n",
       "      <th>2</th>\n",
       "      <td>3</td>\n",
       "    </tr>\n",
       "  </tbody>\n",
       "</table>\n",
       "</div>"
      ],
      "text/plain": [
       "   0\n",
       "0  1\n",
       "1  2\n",
       "2  3"
      ]
     },
     "execution_count": 7,
     "metadata": {},
     "output_type": "execute_result"
    }
   ],
   "source": [
    "import pandas as pd\n",
    "df = pd.DataFrame(a1)\n",
    "df\n",
    "# The 0 on the top is row, the numbers 0,1,2 on the side are columns."
   ]
  },
  {
   "cell_type": "markdown",
   "id": "a3dd7bc8-c20f-4c8c-9627-3394c22bfad7",
   "metadata": {},
   "source": [
    "## **Creating NumPy arrays**"
   ]
  },
  {
   "cell_type": "code",
   "execution_count": 9,
   "id": "c9b491e4-3152-40b1-8d97-5b8c5cebca6c",
   "metadata": {},
   "outputs": [
    {
     "data": {
      "text/plain": [
       "array([[1., 1., 1.],\n",
       "       [1., 1., 1.]])"
      ]
     },
     "execution_count": 9,
     "metadata": {},
     "output_type": "execute_result"
    }
   ],
   "source": [
    "ones = np.ones((2, 3))\n",
    "ones\n",
    "#Return a new array of given shape and type, filled with ones. Press shift+tab while inside the innermost parentheses for more info. We have only given shape here. Type is optional."
   ]
  },
  {
   "cell_type": "code",
   "execution_count": 10,
   "id": "45b57cfe-1f9e-4004-a694-481fe39f7379",
   "metadata": {},
   "outputs": [
    {
     "data": {
      "text/plain": [
       "array([[0., 0., 0.],\n",
       "       [0., 0., 0.]])"
      ]
     },
     "execution_count": 10,
     "metadata": {},
     "output_type": "execute_result"
    }
   ],
   "source": [
    "zeros = np.zeros((2,3))\n",
    "zeros\n",
    "#Same function as ones"
   ]
  },
  {
   "cell_type": "code",
   "execution_count": 11,
   "id": "15ec6cd4-81cc-4149-ac5a-23c4f1d5f746",
   "metadata": {},
   "outputs": [
    {
     "data": {
      "text/plain": [
       "array([0, 2, 4, 6, 8])"
      ]
     },
     "execution_count": 11,
     "metadata": {},
     "output_type": "execute_result"
    }
   ],
   "source": [
    "range_array = np.arange(0, 10, 2)\n",
    "range_array\n",
    "#Return evenly spaced values within a given interval. The numbers inside the parentheses are in the format of (start, stop, step). Go from 0 to 10 by skipping 2 numbers."
   ]
  },
  {
   "cell_type": "code",
   "execution_count": 12,
   "id": "4be9c8f4-c1b1-4adb-b3eb-f49eaa59e588",
   "metadata": {},
   "outputs": [
    {
     "data": {
      "text/plain": [
       "array([[9, 7, 5, 1, 5],\n",
       "       [0, 2, 3, 6, 2],\n",
       "       [8, 7, 2, 9, 8]])"
      ]
     },
     "execution_count": 12,
     "metadata": {},
     "output_type": "execute_result"
    }
   ],
   "source": [
    "random_array = np.random.randint(0, 10, size = (3, 5))\n",
    "random_array\n",
    "#Creates a random array of the given size which consists of integers which are between the 2 given integers."
   ]
  },
  {
   "cell_type": "code",
   "execution_count": 13,
   "id": "5cbd1e23-ff1b-4202-a5f1-bd1414044c59",
   "metadata": {},
   "outputs": [
    {
     "data": {
      "text/plain": [
       "(15, (3, 5))"
      ]
     },
     "execution_count": 13,
     "metadata": {},
     "output_type": "execute_result"
    }
   ],
   "source": [
    "random_array.size, random_array.shape"
   ]
  },
  {
   "cell_type": "code",
   "execution_count": 14,
   "id": "4a73b6d7-0066-4ddb-b5fd-28e749293971",
   "metadata": {},
   "outputs": [
    {
     "data": {
      "text/plain": [
       "array([[0.05867231, 0.14835229, 0.0708516 ],\n",
       "       [0.54787383, 0.42499695, 0.70291532],\n",
       "       [0.47407267, 0.66610214, 0.53508927],\n",
       "       [0.17398088, 0.87353648, 0.54469069],\n",
       "       [0.25277696, 0.91347593, 0.53467447]])"
      ]
     },
     "execution_count": 14,
     "metadata": {},
     "output_type": "execute_result"
    }
   ],
   "source": [
    "random_array_2 = np.random.random((5, 3))\n",
    "random_array_2\n",
    "#Creates a random array of the given shape consisting of values between 0 and 1"
   ]
  },
  {
   "cell_type": "code",
   "execution_count": 25,
   "id": "b77d43fa-cbe2-4195-8d20-33bcc739efcd",
   "metadata": {},
   "outputs": [
    {
     "data": {
      "text/plain": [
       "array([[0.07630829, 0.77991879, 0.43840923],\n",
       "       [0.72346518, 0.97798951, 0.53849587],\n",
       "       [0.50112046, 0.07205113, 0.26843898],\n",
       "       [0.4998825 , 0.67923   , 0.80373904],\n",
       "       [0.38094113, 0.06593635, 0.2881456 ]])"
      ]
     },
     "execution_count": 25,
     "metadata": {},
     "output_type": "execute_result"
    }
   ],
   "source": [
    "np.random.seed(7)\n",
    "random_array_3 = np.random.random((5, 3))\n",
    "random_array_3\n",
    "#Whenever we set the random seed to a specific number. We will get the same aray everytime with no change at all."
   ]
  },
  {
   "cell_type": "code",
   "execution_count": 26,
   "id": "b0863a7c-3801-497f-9547-279d58a36790",
   "metadata": {},
   "outputs": [
    {
     "data": {
      "text/plain": [
       "array([0, 1, 2, 3, 5, 6, 7, 8, 9])"
      ]
     },
     "execution_count": 26,
     "metadata": {},
     "output_type": "execute_result"
    }
   ],
   "source": [
    "np.unique(random_array)\n",
    "#Gives us the unique elements present in any array"
   ]
  },
  {
   "cell_type": "code",
   "execution_count": 27,
   "id": "2a05f117-d713-43f1-b730-7995a518665f",
   "metadata": {},
   "outputs": [
    {
     "data": {
      "text/plain": [
       "array([[[[3, 5, 8, 8, 7],\n",
       "         [5, 0, 0, 2, 8],\n",
       "         [9, 6, 4, 9, 7],\n",
       "         [3, 3, 8, 3, 0]],\n",
       "\n",
       "        [[1, 0, 0, 6, 7],\n",
       "         [7, 9, 3, 0, 7],\n",
       "         [7, 7, 0, 5, 4],\n",
       "         [3, 1, 3, 1, 3]],\n",
       "\n",
       "        [[4, 3, 1, 9, 5],\n",
       "         [9, 1, 2, 3, 2],\n",
       "         [2, 5, 7, 3, 0],\n",
       "         [9, 9, 3, 4, 5]]],\n",
       "\n",
       "\n",
       "       [[[3, 0, 4, 8, 6],\n",
       "         [7, 2, 7, 3, 8],\n",
       "         [6, 6, 5, 6, 5],\n",
       "         [7, 1, 5, 4, 4]],\n",
       "\n",
       "        [[9, 9, 0, 6, 2],\n",
       "         [6, 8, 2, 4, 1],\n",
       "         [6, 1, 5, 1, 6],\n",
       "         [9, 8, 6, 5, 9]],\n",
       "\n",
       "        [[7, 5, 4, 9, 6],\n",
       "         [8, 1, 5, 5, 8],\n",
       "         [3, 7, 7, 9, 4],\n",
       "         [7, 5, 9, 6, 2]]]])"
      ]
     },
     "execution_count": 27,
     "metadata": {},
     "output_type": "execute_result"
    }
   ],
   "source": [
    "a4 = np.random.randint(10, size=(2, 3, 4, 5))\n",
    "a4\n"
   ]
  },
  {
   "cell_type": "code",
   "execution_count": 28,
   "id": "3cd62cc3-a8a9-4800-b832-7ecf31972c9b",
   "metadata": {},
   "outputs": [
    {
     "data": {
      "text/plain": [
       "(array([1, 2, 3]),\n",
       " array([[1., 1., 1.],\n",
       "        [1., 1., 1.]]))"
      ]
     },
     "execution_count": 28,
     "metadata": {},
     "output_type": "execute_result"
    }
   ],
   "source": [
    "a1, ones"
   ]
  },
  {
   "cell_type": "code",
   "execution_count": 29,
   "id": "463b99bf-d416-4fec-b6ed-59860931cbc5",
   "metadata": {},
   "outputs": [
    {
     "data": {
      "text/plain": [
       "array([1., 1., 1.])"
      ]
     },
     "execution_count": 29,
     "metadata": {},
     "output_type": "execute_result"
    }
   ],
   "source": [
    "ones = np.ones(3)\n",
    "ones"
   ]
  },
  {
   "cell_type": "code",
   "execution_count": 30,
   "id": "e0dffa8a-7c48-4c29-a4d4-40b6b27f8e00",
   "metadata": {},
   "outputs": [
    {
     "data": {
      "text/plain": [
       "array([2., 3., 4.])"
      ]
     },
     "execution_count": 30,
     "metadata": {},
     "output_type": "execute_result"
    }
   ],
   "source": [
    "a1 + ones"
   ]
  },
  {
   "cell_type": "markdown",
   "id": "ffc8d577-acc1-44e9-8140-a5b67af894f4",
   "metadata": {},
   "source": [
    "## **Manipulating Arrays**"
   ]
  },
  {
   "cell_type": "markdown",
   "id": "6d4fd993-dd87-4031-84c2-c5f02af982d6",
   "metadata": {},
   "source": [
    "For 2 arrays to be multiplied correctly, they should both have the same shape or their shape should be 1."
   ]
  },
  {
   "cell_type": "code",
   "execution_count": 31,
   "id": "03adfed1-27b3-49b0-9598-a0d50b41d8be",
   "metadata": {},
   "outputs": [
    {
     "data": {
      "text/plain": [
       "array([1, 4, 9])"
      ]
     },
     "execution_count": 31,
     "metadata": {},
     "output_type": "execute_result"
    }
   ],
   "source": [
    "a1 ** 2"
   ]
  },
  {
   "cell_type": "markdown",
   "id": "4e21431c-b71b-467f-ab88-76de2e1bfca7",
   "metadata": {},
   "source": [
    "You can also use methods like np.square() or np.add() also"
   ]
  },
  {
   "cell_type": "code",
   "execution_count": 32,
   "id": "3bf69df4-f7cb-4b6b-979d-c11b29415598",
   "metadata": {},
   "outputs": [
    {
     "data": {
      "text/plain": [
       "array([1, 0, 1], dtype=int32)"
      ]
     },
     "execution_count": 32,
     "metadata": {},
     "output_type": "execute_result"
    }
   ],
   "source": [
    "a1 % 2"
   ]
  },
  {
   "cell_type": "code",
   "execution_count": 33,
   "id": "0f00e681-a970-4797-af39-9589dce7ca2b",
   "metadata": {},
   "outputs": [
    {
     "data": {
      "text/plain": [
       "(array([0.        , 0.69314718, 1.09861229]),\n",
       " array([ 2.71828183,  7.3890561 , 20.08553692]))"
      ]
     },
     "execution_count": 33,
     "metadata": {},
     "output_type": "execute_result"
    }
   ],
   "source": [
    "np.log(a1), np.exp(a1)"
   ]
  },
  {
   "cell_type": "code",
   "execution_count": 34,
   "id": "d26e25be-43a1-4b64-bd5a-6fd7f82276b2",
   "metadata": {},
   "outputs": [
    {
     "data": {
      "text/plain": [
       "6"
      ]
     },
     "execution_count": 34,
     "metadata": {},
     "output_type": "execute_result"
    }
   ],
   "source": [
    "sum(a1)\n",
    "#This is a Python method"
   ]
  },
  {
   "cell_type": "code",
   "execution_count": 35,
   "id": "c009dc13-e9b7-4ccb-8a1a-88f5b3aaca54",
   "metadata": {},
   "outputs": [
    {
     "data": {
      "text/plain": [
       "6"
      ]
     },
     "execution_count": 35,
     "metadata": {},
     "output_type": "execute_result"
    }
   ],
   "source": [
    "np.sum(a1)\n",
    "#This is a NumPy method"
   ]
  },
  {
   "cell_type": "markdown",
   "id": "53d6ff97-5499-4392-8aa5-3f847e397cae",
   "metadata": {},
   "source": [
    "**Use NumPy methods on NumPy arrays and Python methods on Python datatypes**"
   ]
  },
  {
   "cell_type": "code",
   "execution_count": 36,
   "id": "419263dc-bc2f-4fe0-83ca-d7b34e37bbae",
   "metadata": {},
   "outputs": [
    {
     "data": {
      "text/plain": [
       "1000"
      ]
     },
     "execution_count": 36,
     "metadata": {},
     "output_type": "execute_result"
    }
   ],
   "source": [
    "massive_array = np.random.random(1000)\n",
    "massive_array.size"
   ]
  },
  {
   "cell_type": "code",
   "execution_count": 37,
   "id": "ef273fda-9535-4a5f-bb89-bfb0cee4d27b",
   "metadata": {},
   "outputs": [
    {
     "data": {
      "text/plain": [
       "array([0.82845319, 0.94180927, 0.12814785, 0.23043067, 0.6591584 ,\n",
       "       0.13247399, 0.22407864, 0.57486259, 0.16952372, 0.78223015])"
      ]
     },
     "execution_count": 37,
     "metadata": {},
     "output_type": "execute_result"
    }
   ],
   "source": [
    "massive_array[:10]"
   ]
  },
  {
   "cell_type": "code",
   "execution_count": 38,
   "id": "4d97dd5d-3f04-43a3-8ff5-7a58d05ee166",
   "metadata": {},
   "outputs": [
    {
     "name": "stdout",
     "output_type": "stream",
     "text": [
      "86.6 μs ± 4.63 μs per loop (mean ± std. dev. of 7 runs, 10,000 loops each)\n",
      "4.27 μs ± 358 ns per loop (mean ± std. dev. of 7 runs, 100,000 loops each)\n"
     ]
    }
   ],
   "source": [
    "%timeit sum(massive_array)\n",
    "%timeit np.sum(massive_array)"
   ]
  },
  {
   "cell_type": "markdown",
   "id": "48249b3f-b5ab-4ca7-af2f-5510e18d30b2",
   "metadata": {},
   "source": [
    "As you can see, NumPy's sum method is much faster\n"
   ]
  },
  {
   "cell_type": "code",
   "execution_count": 39,
   "id": "bf1fcbd0-3514-4690-ade7-22b3b035ca87",
   "metadata": {},
   "outputs": [
    {
     "data": {
      "text/plain": [
       "2.0"
      ]
     },
     "execution_count": 39,
     "metadata": {},
     "output_type": "execute_result"
    }
   ],
   "source": [
    "np.mean(a1)"
   ]
  },
  {
   "cell_type": "code",
   "execution_count": 40,
   "id": "5d0e3ba6-4bef-41f3-a2d3-01c0b5901cfb",
   "metadata": {},
   "outputs": [
    {
     "data": {
      "text/plain": [
       "(3, 1)"
      ]
     },
     "execution_count": 40,
     "metadata": {},
     "output_type": "execute_result"
    }
   ],
   "source": [
    "np.max(a1), np.min(a1)"
   ]
  },
  {
   "cell_type": "code",
   "execution_count": 41,
   "id": "d9cb5a36-eb26-4df3-9999-78ad8411fb15",
   "metadata": {},
   "outputs": [
    {
     "data": {
      "text/plain": [
       "0.6666666666666666"
      ]
     },
     "execution_count": 41,
     "metadata": {},
     "output_type": "execute_result"
    }
   ],
   "source": [
    "#Variance = measure of the average degree to which the each number is different from the mean. Standard deviation is the square root of variance.\n",
    "np.var(a1)"
   ]
  },
  {
   "cell_type": "markdown",
   "id": "fa184bda-befe-44b4-b6d1-4fcde30aa62c",
   "metadata": {},
   "source": [
    "## **Reshape and Transpose**"
   ]
  },
  {
   "cell_type": "markdown",
   "id": "b7cf4af8-f022-4249-b145-d465ddb353e8",
   "metadata": {},
   "source": [
    "**Multiplication of 2 arrays can take place only when their dimensions are compatible.Two dimensions are compatible when \n",
    "they are equal or one of them is 1.**\n"
   ]
  },
  {
   "cell_type": "markdown",
   "id": "1663203e-5237-4573-a1f6-f9989868ba60",
   "metadata": {},
   "source": [
    "Transpose switches the columns into rows and the rows into columns\n"
   ]
  },
  {
   "cell_type": "markdown",
   "id": "f5f2c863-1d29-45b2-9ca1-12e112103d83",
   "metadata": {},
   "source": [
    "## **Dot Producst**"
   ]
  },
  {
   "cell_type": "code",
   "execution_count": 47,
   "id": "ace8bcad-429b-451f-a3e3-8c497a73c77a",
   "metadata": {},
   "outputs": [],
   "source": [
    "np.random.seed(0)\n",
    "\n",
    "mat1 = np.random.randint(10, size=(5, 3))\n",
    "mat2 = np.random.randint(10, size=(5, 3))"
   ]
  },
  {
   "cell_type": "code",
   "execution_count": 48,
   "id": "2c17ed90-9e14-4c40-aa8a-b526f42d42a1",
   "metadata": {},
   "outputs": [
    {
     "data": {
      "text/plain": [
       "array([[5, 0, 3],\n",
       "       [3, 7, 9],\n",
       "       [3, 5, 2],\n",
       "       [4, 7, 6],\n",
       "       [8, 8, 1]])"
      ]
     },
     "execution_count": 48,
     "metadata": {},
     "output_type": "execute_result"
    }
   ],
   "source": [
    "mat1"
   ]
  },
  {
   "cell_type": "code",
   "execution_count": 49,
   "id": "fd6208be-a179-4fd7-98e9-416daae0733d",
   "metadata": {},
   "outputs": [
    {
     "data": {
      "text/plain": [
       "array([[6, 7, 7],\n",
       "       [8, 1, 5],\n",
       "       [9, 8, 9],\n",
       "       [4, 3, 0],\n",
       "       [3, 5, 0]])"
      ]
     },
     "execution_count": 49,
     "metadata": {},
     "output_type": "execute_result"
    }
   ],
   "source": [
    "mat2"
   ]
  },
  {
   "cell_type": "code",
   "execution_count": 50,
   "id": "48d2493b-8ba0-499c-a5e1-fa8f16305688",
   "metadata": {},
   "outputs": [
    {
     "data": {
      "text/plain": [
       "array([[30,  0, 21],\n",
       "       [24,  7, 45],\n",
       "       [27, 40, 18],\n",
       "       [16, 21,  0],\n",
       "       [24, 40,  0]])"
      ]
     },
     "execution_count": 50,
     "metadata": {},
     "output_type": "execute_result"
    }
   ],
   "source": [
    "mat1 * mat2\n",
    "#Element-wise multiplication, in this, you multiply each element of the matrix with the element present at the corresponding position in the other matrix. Observe the top rows of mat1, mat2 and the resulting product."
   ]
  },
  {
   "cell_type": "markdown",
   "id": "6cee66e1-b40e-4f26-9fc3-a5740617bcf6",
   "metadata": {},
   "source": [
    "**Dot product is same as we do matrix multiplication in Maths**"
   ]
  },
  {
   "cell_type": "code",
   "execution_count": 51,
   "id": "a686dc08-caec-4167-a098-da5d39764ee1",
   "metadata": {},
   "outputs": [
    {
     "data": {
      "text/plain": [
       "array([[5, 3, 3, 4, 8],\n",
       "       [0, 7, 5, 7, 8],\n",
       "       [3, 9, 2, 6, 1]])"
      ]
     },
     "execution_count": 51,
     "metadata": {},
     "output_type": "execute_result"
    }
   ],
   "source": [
    "mat1.T #Transpose of matrix1"
   ]
  },
  {
   "cell_type": "code",
   "execution_count": 52,
   "id": "dda9cb68-33f6-46be-8ad0-5bbb5c0bc252",
   "metadata": {},
   "outputs": [
    {
     "data": {
      "text/plain": [
       "array([[ 51,  55,  72,  20,  15],\n",
       "       [130,  76, 164,  33,  44],\n",
       "       [ 67,  39,  85,  27,  34],\n",
       "       [115,  69, 146,  37,  47],\n",
       "       [111,  77, 145,  56,  64]])"
      ]
     },
     "execution_count": 52,
     "metadata": {},
     "output_type": "execute_result"
    }
   ],
   "source": [
    "mat3 = np.dot(mat1, mat2.T)\n",
    "mat3"
   ]
  },
  {
   "cell_type": "code",
   "execution_count": 53,
   "id": "6df9ff2b-721e-49d6-9c13-266d5e651da9",
   "metadata": {},
   "outputs": [
    {
     "data": {
      "text/plain": [
       "(5, 5)"
      ]
     },
     "execution_count": 53,
     "metadata": {},
     "output_type": "execute_result"
    }
   ],
   "source": [
    "mat3.shape\n"
   ]
  },
  {
   "cell_type": "markdown",
   "id": "10342c99-f293-4474-8e65-9aebe60afda5",
   "metadata": {},
   "source": [
    "## **Dot Product Example (Nut Butter Sales)**"
   ]
  },
  {
   "cell_type": "code",
   "execution_count": 54,
   "id": "eae6c22c-0e64-485f-b701-8414ecd8ea07",
   "metadata": {},
   "outputs": [
    {
     "data": {
      "text/plain": [
       "array([[12, 15,  0],\n",
       "       [ 3,  3,  7],\n",
       "       [ 9, 19, 18],\n",
       "       [ 4,  6, 12],\n",
       "       [ 1,  6,  7]])"
      ]
     },
     "execution_count": 54,
     "metadata": {},
     "output_type": "execute_result"
    }
   ],
   "source": [
    "np.random.seed(0)\n",
    "#Number of jars sold\n",
    "sales_amounts = np.random.randint(20, size=(5,3))\n",
    "sales_amounts"
   ]
  },
  {
   "cell_type": "code",
   "execution_count": 55,
   "id": "d00b987a-8e6c-47aa-a8c5-180c4f37ec89",
   "metadata": {},
   "outputs": [
    {
     "data": {
      "text/html": [
       "<div>\n",
       "<style scoped>\n",
       "    .dataframe tbody tr th:only-of-type {\n",
       "        vertical-align: middle;\n",
       "    }\n",
       "\n",
       "    .dataframe tbody tr th {\n",
       "        vertical-align: top;\n",
       "    }\n",
       "\n",
       "    .dataframe thead th {\n",
       "        text-align: right;\n",
       "    }\n",
       "</style>\n",
       "<table border=\"1\" class=\"dataframe\">\n",
       "  <thead>\n",
       "    <tr style=\"text-align: right;\">\n",
       "      <th></th>\n",
       "      <th>Almond butter</th>\n",
       "      <th>Peanut Butter</th>\n",
       "      <th>Cashew Butter</th>\n",
       "    </tr>\n",
       "  </thead>\n",
       "  <tbody>\n",
       "    <tr>\n",
       "      <th>Mon</th>\n",
       "      <td>12</td>\n",
       "      <td>15</td>\n",
       "      <td>0</td>\n",
       "    </tr>\n",
       "    <tr>\n",
       "      <th>Tue</th>\n",
       "      <td>3</td>\n",
       "      <td>3</td>\n",
       "      <td>7</td>\n",
       "    </tr>\n",
       "    <tr>\n",
       "      <th>Wed</th>\n",
       "      <td>9</td>\n",
       "      <td>19</td>\n",
       "      <td>18</td>\n",
       "    </tr>\n",
       "    <tr>\n",
       "      <th>Thurs</th>\n",
       "      <td>4</td>\n",
       "      <td>6</td>\n",
       "      <td>12</td>\n",
       "    </tr>\n",
       "    <tr>\n",
       "      <th>Fri</th>\n",
       "      <td>1</td>\n",
       "      <td>6</td>\n",
       "      <td>7</td>\n",
       "    </tr>\n",
       "  </tbody>\n",
       "</table>\n",
       "</div>"
      ],
      "text/plain": [
       "       Almond butter  Peanut Butter  Cashew Butter\n",
       "Mon               12             15              0\n",
       "Tue                3              3              7\n",
       "Wed                9             19             18\n",
       "Thurs              4              6             12\n",
       "Fri                1              6              7"
      ]
     },
     "execution_count": 55,
     "metadata": {},
     "output_type": "execute_result"
    }
   ],
   "source": [
    "#Create weekly_sales dataframe\n",
    "weekly_sales = pd.DataFrame(sales_amounts, index=[\"Mon\", \"Tue\", \"Wed\", \"Thurs\", \"Fri\"], columns=[\"Almond butter\", \"Peanut Butter\", \"Cashew Butter\"])\n",
    "weekly_sales"
   ]
  },
  {
   "cell_type": "code",
   "execution_count": 57,
   "id": "7c25b4f1-af23-42ae-b3d6-da44705aa798",
   "metadata": {},
   "outputs": [
    {
     "data": {
      "text/plain": [
       "(3,)"
      ]
     },
     "execution_count": 57,
     "metadata": {},
     "output_type": "execute_result"
    }
   ],
   "source": [
    "#Create prices array\n",
    "prices = np.array([10, 8, 12])\n",
    "prices.shape"
   ]
  },
  {
   "cell_type": "code",
   "execution_count": 59,
   "id": "d91a2a38-8ee4-4d2e-ab86-b3c02a5201b4",
   "metadata": {},
   "outputs": [
    {
     "data": {
      "text/html": [
       "<div>\n",
       "<style scoped>\n",
       "    .dataframe tbody tr th:only-of-type {\n",
       "        vertical-align: middle;\n",
       "    }\n",
       "\n",
       "    .dataframe tbody tr th {\n",
       "        vertical-align: top;\n",
       "    }\n",
       "\n",
       "    .dataframe thead th {\n",
       "        text-align: right;\n",
       "    }\n",
       "</style>\n",
       "<table border=\"1\" class=\"dataframe\">\n",
       "  <thead>\n",
       "    <tr style=\"text-align: right;\">\n",
       "      <th></th>\n",
       "      <th>Almond butter</th>\n",
       "      <th>Peanut Butter</th>\n",
       "      <th>Cashew Butter</th>\n",
       "    </tr>\n",
       "  </thead>\n",
       "  <tbody>\n",
       "    <tr>\n",
       "      <th>Price</th>\n",
       "      <td>10</td>\n",
       "      <td>8</td>\n",
       "      <td>12</td>\n",
       "    </tr>\n",
       "  </tbody>\n",
       "</table>\n",
       "</div>"
      ],
      "text/plain": [
       "       Almond butter  Peanut Butter  Cashew Butter\n",
       "Price             10              8             12"
      ]
     },
     "execution_count": 59,
     "metadata": {},
     "output_type": "execute_result"
    }
   ],
   "source": [
    "#Create butter_prices dataframe\n",
    "butter_prices = pd.DataFrame(prices.reshape(1,3), index=[\"Price\"],columns=[\"Almond butter\", \"Peanut Butter\", \"Cashew Butter\"] )\n",
    "#We need to reshape the prices array because it's shape is (3, ) and our dataframe is desgined to have a shape of (1, 3)\n",
    "butter_prices"
   ]
  },
  {
   "cell_type": "code",
   "execution_count": 60,
   "id": "789ef5d8-84ee-4dc5-8122-bcf25edaaf91",
   "metadata": {},
   "outputs": [
    {
     "data": {
      "text/plain": [
       "(5, 3)"
      ]
     },
     "execution_count": 60,
     "metadata": {},
     "output_type": "execute_result"
    }
   ],
   "source": [
    "sales_amounts.shape"
   ]
  },
  {
   "cell_type": "markdown",
   "id": "0dcebf8c-4076-4376-a6a2-26b3f40d0855",
   "metadata": {},
   "source": [
    "**Since the shape of the prices array is (1, 3) and the shape of the sales_amounts array is (5, 3), for calculating the dot product and hence finding the total sales per day, we would need to take transpose of the sales_amount array.**"
   ]
  },
  {
   "cell_type": "code",
   "execution_count": 61,
   "id": "a82f84d2-af60-4015-b1be-b5eeb5681208",
   "metadata": {},
   "outputs": [
    {
     "data": {
      "text/plain": [
       "array([240, 138, 458, 232, 142])"
      ]
     },
     "execution_count": 61,
     "metadata": {},
     "output_type": "execute_result"
    }
   ],
   "source": [
    "total_sales = prices.dot(sales_amounts.T)\n",
    "total_sales"
   ]
  },
  {
   "cell_type": "code",
   "execution_count": 63,
   "id": "6ad7176c-107d-418b-a3ed-e3261d9d7eb9",
   "metadata": {},
   "outputs": [
    {
     "data": {
      "text/plain": [
       "((5, 3), (1, 3))"
      ]
     },
     "execution_count": 63,
     "metadata": {},
     "output_type": "execute_result"
    }
   ],
   "source": [
    "weekly_sales.shape, butter_prices.shape"
   ]
  },
  {
   "cell_type": "code",
   "execution_count": 64,
   "id": "45397f6f-9b8a-443f-8423-bbb63a4741e1",
   "metadata": {},
   "outputs": [],
   "source": [
    "daily_sales = weekly_sales.dot(butter_prices.T)"
   ]
  },
  {
   "cell_type": "code",
   "execution_count": 65,
   "id": "323967c7-75fc-497c-a9fd-8f09426dc6d3",
   "metadata": {},
   "outputs": [
    {
     "data": {
      "text/html": [
       "<div>\n",
       "<style scoped>\n",
       "    .dataframe tbody tr th:only-of-type {\n",
       "        vertical-align: middle;\n",
       "    }\n",
       "\n",
       "    .dataframe tbody tr th {\n",
       "        vertical-align: top;\n",
       "    }\n",
       "\n",
       "    .dataframe thead th {\n",
       "        text-align: right;\n",
       "    }\n",
       "</style>\n",
       "<table border=\"1\" class=\"dataframe\">\n",
       "  <thead>\n",
       "    <tr style=\"text-align: right;\">\n",
       "      <th></th>\n",
       "      <th>Price</th>\n",
       "    </tr>\n",
       "  </thead>\n",
       "  <tbody>\n",
       "    <tr>\n",
       "      <th>Mon</th>\n",
       "      <td>240</td>\n",
       "    </tr>\n",
       "    <tr>\n",
       "      <th>Tue</th>\n",
       "      <td>138</td>\n",
       "    </tr>\n",
       "    <tr>\n",
       "      <th>Wed</th>\n",
       "      <td>458</td>\n",
       "    </tr>\n",
       "    <tr>\n",
       "      <th>Thurs</th>\n",
       "      <td>232</td>\n",
       "    </tr>\n",
       "    <tr>\n",
       "      <th>Fri</th>\n",
       "      <td>142</td>\n",
       "    </tr>\n",
       "  </tbody>\n",
       "</table>\n",
       "</div>"
      ],
      "text/plain": [
       "       Price\n",
       "Mon      240\n",
       "Tue      138\n",
       "Wed      458\n",
       "Thurs    232\n",
       "Fri      142"
      ]
     },
     "execution_count": 65,
     "metadata": {},
     "output_type": "execute_result"
    }
   ],
   "source": [
    "daily_sales"
   ]
  },
  {
   "cell_type": "code",
   "execution_count": 66,
   "id": "fa29ab97-a486-417b-a7c4-6b172bc1cc7b",
   "metadata": {},
   "outputs": [
    {
     "data": {
      "text/plain": [
       "(5, 1)"
      ]
     },
     "execution_count": 66,
     "metadata": {},
     "output_type": "execute_result"
    }
   ],
   "source": [
    "daily_sales.shape"
   ]
  },
  {
   "cell_type": "code",
   "execution_count": 67,
   "id": "1eeab11c-d3ca-4f07-a5ab-ddf03381d1bc",
   "metadata": {},
   "outputs": [
    {
     "data": {
      "text/html": [
       "<div>\n",
       "<style scoped>\n",
       "    .dataframe tbody tr th:only-of-type {\n",
       "        vertical-align: middle;\n",
       "    }\n",
       "\n",
       "    .dataframe tbody tr th {\n",
       "        vertical-align: top;\n",
       "    }\n",
       "\n",
       "    .dataframe thead th {\n",
       "        text-align: right;\n",
       "    }\n",
       "</style>\n",
       "<table border=\"1\" class=\"dataframe\">\n",
       "  <thead>\n",
       "    <tr style=\"text-align: right;\">\n",
       "      <th></th>\n",
       "      <th>Almond butter</th>\n",
       "      <th>Peanut Butter</th>\n",
       "      <th>Cashew Butter</th>\n",
       "      <th>Total</th>\n",
       "    </tr>\n",
       "  </thead>\n",
       "  <tbody>\n",
       "    <tr>\n",
       "      <th>Mon</th>\n",
       "      <td>12</td>\n",
       "      <td>15</td>\n",
       "      <td>0</td>\n",
       "      <td>240</td>\n",
       "    </tr>\n",
       "    <tr>\n",
       "      <th>Tue</th>\n",
       "      <td>3</td>\n",
       "      <td>3</td>\n",
       "      <td>7</td>\n",
       "      <td>138</td>\n",
       "    </tr>\n",
       "    <tr>\n",
       "      <th>Wed</th>\n",
       "      <td>9</td>\n",
       "      <td>19</td>\n",
       "      <td>18</td>\n",
       "      <td>458</td>\n",
       "    </tr>\n",
       "    <tr>\n",
       "      <th>Thurs</th>\n",
       "      <td>4</td>\n",
       "      <td>6</td>\n",
       "      <td>12</td>\n",
       "      <td>232</td>\n",
       "    </tr>\n",
       "    <tr>\n",
       "      <th>Fri</th>\n",
       "      <td>1</td>\n",
       "      <td>6</td>\n",
       "      <td>7</td>\n",
       "      <td>142</td>\n",
       "    </tr>\n",
       "  </tbody>\n",
       "</table>\n",
       "</div>"
      ],
      "text/plain": [
       "       Almond butter  Peanut Butter  Cashew Butter  Total\n",
       "Mon               12             15              0    240\n",
       "Tue                3              3              7    138\n",
       "Wed                9             19             18    458\n",
       "Thurs              4              6             12    232\n",
       "Fri                1              6              7    142"
      ]
     },
     "execution_count": 67,
     "metadata": {},
     "output_type": "execute_result"
    }
   ],
   "source": [
    "weekly_sales[\"Total\"] = daily_sales\n",
    "weekly_sales"
   ]
  },
  {
   "cell_type": "code",
   "execution_count": 68,
   "id": "80c745d3-9b80-4ae1-8506-1143c6c0ff7b",
   "metadata": {},
   "outputs": [
    {
     "data": {
      "text/html": [
       "<div>\n",
       "<style scoped>\n",
       "    .dataframe tbody tr th:only-of-type {\n",
       "        vertical-align: middle;\n",
       "    }\n",
       "\n",
       "    .dataframe tbody tr th {\n",
       "        vertical-align: top;\n",
       "    }\n",
       "\n",
       "    .dataframe thead th {\n",
       "        text-align: right;\n",
       "    }\n",
       "</style>\n",
       "<table border=\"1\" class=\"dataframe\">\n",
       "  <thead>\n",
       "    <tr style=\"text-align: right;\">\n",
       "      <th></th>\n",
       "      <th>Almond butter</th>\n",
       "      <th>Peanut Butter</th>\n",
       "      <th>Cashew Butter</th>\n",
       "    </tr>\n",
       "  </thead>\n",
       "  <tbody>\n",
       "    <tr>\n",
       "      <th>Price</th>\n",
       "      <td>10</td>\n",
       "      <td>8</td>\n",
       "      <td>12</td>\n",
       "    </tr>\n",
       "  </tbody>\n",
       "</table>\n",
       "</div>"
      ],
      "text/plain": [
       "       Almond butter  Peanut Butter  Cashew Butter\n",
       "Price             10              8             12"
      ]
     },
     "execution_count": 68,
     "metadata": {},
     "output_type": "execute_result"
    }
   ],
   "source": [
    "butter_prices"
   ]
  },
  {
   "cell_type": "code",
   "execution_count": 69,
   "id": "7a4ff748-9af4-455e-a5fc-7386d03cedca",
   "metadata": {},
   "outputs": [
    {
     "data": {
      "text/plain": [
       "array([[9, 7, 5, 1, 5],\n",
       "       [0, 2, 3, 6, 2],\n",
       "       [8, 7, 2, 9, 8]])"
      ]
     },
     "execution_count": 69,
     "metadata": {},
     "output_type": "execute_result"
    }
   ],
   "source": [
    "random_array"
   ]
  },
  {
   "cell_type": "code",
   "execution_count": 70,
   "id": "a5f2ca49-d2c8-4200-b488-fb92918c94df",
   "metadata": {},
   "outputs": [
    {
     "data": {
      "text/plain": [
       "array([[1, 5, 5, 7, 9],\n",
       "       [0, 2, 2, 3, 6],\n",
       "       [2, 7, 8, 8, 9]])"
      ]
     },
     "execution_count": 70,
     "metadata": {},
     "output_type": "execute_result"
    }
   ],
   "source": [
    "np.sort(random_array)\n",
    "#Sorts the number in each row"
   ]
  },
  {
   "cell_type": "code",
   "execution_count": 71,
   "id": "4f67fc1e-1d9e-4ee0-b0c2-2b949cc91998",
   "metadata": {},
   "outputs": [
    {
     "data": {
      "text/plain": [
       "array([[3, 2, 4, 1, 0],\n",
       "       [0, 1, 4, 2, 3],\n",
       "       [2, 1, 0, 4, 3]], dtype=int64)"
      ]
     },
     "execution_count": 71,
     "metadata": {},
     "output_type": "execute_result"
    }
   ],
   "source": [
    "np.argsort(random_array)\n",
    "#Returns the indices that would sort an array."
   ]
  },
  {
   "cell_type": "markdown",
   "id": "9479ef29-bbc8-4a9a-bb94-7bc6e754dbb0",
   "metadata": {},
   "source": [
    "<img src = \"Screenshot (192).png\"/>"
   ]
  },
  {
   "cell_type": "code",
   "execution_count": 4,
   "id": "04943dfd-f041-4c21-bca2-27e89a2c92ab",
   "metadata": {},
   "outputs": [
    {
     "name": "stdout",
     "output_type": "stream",
     "text": [
      "<class 'numpy.ndarray'>\n"
     ]
    }
   ],
   "source": [
    "from matplotlib.image import imread\n",
    "image = imread(\"Screenshot (192).png\")\n",
    "print(type(image))"
   ]
  },
  {
   "cell_type": "code",
   "execution_count": 5,
   "id": "bcaa7572-28bf-4eed-9ea1-1d9c322df58c",
   "metadata": {},
   "outputs": [
    {
     "data": {
      "text/plain": [
       "array([[[0.08235294, 0.15686275, 0.3137255 , 1.        ],\n",
       "        [0.08235294, 0.15686275, 0.3137255 , 1.        ],\n",
       "        [0.08235294, 0.15686275, 0.3137255 , 1.        ],\n",
       "        ...,\n",
       "        [0.08235294, 0.15686275, 0.3137255 , 1.        ],\n",
       "        [0.08235294, 0.15686275, 0.3137255 , 1.        ],\n",
       "        [0.08235294, 0.15686275, 0.3137255 , 1.        ]],\n",
       "\n",
       "       [[0.08235294, 0.15686275, 0.3137255 , 1.        ],\n",
       "        [0.08235294, 0.15686275, 0.3137255 , 1.        ],\n",
       "        [0.08235294, 0.15686275, 0.3137255 , 1.        ],\n",
       "        ...,\n",
       "        [0.08235294, 0.15686275, 0.3137255 , 1.        ],\n",
       "        [0.08235294, 0.15686275, 0.3137255 , 1.        ],\n",
       "        [0.08235294, 0.15686275, 0.3137255 , 1.        ]],\n",
       "\n",
       "       [[0.08235294, 0.15686275, 0.3137255 , 1.        ],\n",
       "        [0.08235294, 0.15686275, 0.3137255 , 1.        ],\n",
       "        [0.08235294, 0.15686275, 0.3137255 , 1.        ],\n",
       "        ...,\n",
       "        [0.08235294, 0.15686275, 0.3137255 , 1.        ],\n",
       "        [0.08235294, 0.15686275, 0.3137255 , 1.        ],\n",
       "        [0.08235294, 0.15686275, 0.3137255 , 1.        ]],\n",
       "\n",
       "       ...,\n",
       "\n",
       "       [[0.22352941, 0.12941177, 0.07843138, 1.        ],\n",
       "        [0.22352941, 0.12941177, 0.07843138, 1.        ],\n",
       "        [0.22745098, 0.13333334, 0.08235294, 1.        ],\n",
       "        ...,\n",
       "        [0.21960784, 0.13333334, 0.08235294, 1.        ],\n",
       "        [0.21176471, 0.1254902 , 0.07450981, 1.        ],\n",
       "        [0.21176471, 0.1254902 , 0.07450981, 1.        ]],\n",
       "\n",
       "       [[0.22745098, 0.13333334, 0.08235294, 1.        ],\n",
       "        [0.21568628, 0.12156863, 0.07058824, 1.        ],\n",
       "        [0.21960784, 0.1254902 , 0.07450981, 1.        ],\n",
       "        ...,\n",
       "        [0.21568628, 0.12941177, 0.07843138, 1.        ],\n",
       "        [0.21568628, 0.12941177, 0.07843138, 1.        ],\n",
       "        [0.21960784, 0.13333334, 0.08235294, 1.        ]],\n",
       "\n",
       "       [[0.22352941, 0.12941177, 0.07843138, 1.        ],\n",
       "        [0.22745098, 0.13333334, 0.08235294, 1.        ],\n",
       "        [0.22352941, 0.12941177, 0.07843138, 1.        ],\n",
       "        ...,\n",
       "        [0.22352941, 0.13725491, 0.08627451, 1.        ],\n",
       "        [0.21960784, 0.13333334, 0.08235294, 1.        ],\n",
       "        [0.21568628, 0.12941177, 0.07843138, 1.        ]]], dtype=float32)"
      ]
     },
     "execution_count": 5,
     "metadata": {},
     "output_type": "execute_result"
    }
   ],
   "source": [
    "image"
   ]
  },
  {
   "cell_type": "code",
   "execution_count": 6,
   "id": "9b3453cf-a10c-4988-ae54-d655ee898cc5",
   "metadata": {},
   "outputs": [
    {
     "data": {
      "text/plain": [
       "(8294400, (1080, 1920, 4), 3)"
      ]
     },
     "execution_count": 6,
     "metadata": {},
     "output_type": "execute_result"
    }
   ],
   "source": [
    "image.size, image.shape, image.ndim"
   ]
  },
  {
   "cell_type": "markdown",
   "id": "cffa94b6-60f9-44c6-8514-c3791a4d9192",
   "metadata": {},
   "source": [
    "<img src = \"Screenshot (176).png\"/>"
   ]
  },
  {
   "cell_type": "code",
   "execution_count": 7,
   "id": "8a22385f-775a-4d88-bb0f-3efe8c84c898",
   "metadata": {},
   "outputs": [
    {
     "name": "stdout",
     "output_type": "stream",
     "text": [
      "<class 'numpy.ndarray'>\n"
     ]
    }
   ],
   "source": [
    "screenshot = imread(\"Screenshot (176).png\")\n",
    "print(type(screenshot))"
   ]
  },
  {
   "cell_type": "code",
   "execution_count": 8,
   "id": "f6c33257-7c3c-4caf-a636-2944554a8cdf",
   "metadata": {},
   "outputs": [
    {
     "data": {
      "text/plain": [
       "array([[[0.13333334, 0.1254902 , 0.10196079, 1.        ],\n",
       "        [0.13333334, 0.1254902 , 0.10196079, 1.        ],\n",
       "        [0.13333334, 0.1254902 , 0.10196079, 1.        ],\n",
       "        ...,\n",
       "        [0.13333334, 0.1254902 , 0.10196079, 1.        ],\n",
       "        [0.13333334, 0.1254902 , 0.10196079, 1.        ],\n",
       "        [0.13333334, 0.1254902 , 0.10196079, 1.        ]],\n",
       "\n",
       "       [[0.13333334, 0.1254902 , 0.10196079, 1.        ],\n",
       "        [0.13333334, 0.1254902 , 0.10196079, 1.        ],\n",
       "        [0.13333334, 0.1254902 , 0.10196079, 1.        ],\n",
       "        ...,\n",
       "        [0.13333334, 0.1254902 , 0.10196079, 1.        ],\n",
       "        [0.13333334, 0.1254902 , 0.10196079, 1.        ],\n",
       "        [0.13333334, 0.1254902 , 0.10196079, 1.        ]],\n",
       "\n",
       "       [[0.13333334, 0.1254902 , 0.10196079, 1.        ],\n",
       "        [0.13333334, 0.1254902 , 0.10196079, 1.        ],\n",
       "        [0.13333334, 0.1254902 , 0.10196079, 1.        ],\n",
       "        ...,\n",
       "        [0.13333334, 0.1254902 , 0.10196079, 1.        ],\n",
       "        [0.13333334, 0.1254902 , 0.10196079, 1.        ],\n",
       "        [0.13333334, 0.1254902 , 0.10196079, 1.        ]],\n",
       "\n",
       "       ...,\n",
       "\n",
       "       [[0.22352941, 0.12941177, 0.07843138, 1.        ],\n",
       "        [0.22352941, 0.12941177, 0.07843138, 1.        ],\n",
       "        [0.22745098, 0.13333334, 0.08235294, 1.        ],\n",
       "        ...,\n",
       "        [0.21960784, 0.13333334, 0.08235294, 1.        ],\n",
       "        [0.21176471, 0.1254902 , 0.07450981, 1.        ],\n",
       "        [0.21176471, 0.1254902 , 0.07450981, 1.        ]],\n",
       "\n",
       "       [[0.22745098, 0.13333334, 0.08235294, 1.        ],\n",
       "        [0.21568628, 0.12156863, 0.07058824, 1.        ],\n",
       "        [0.21960784, 0.1254902 , 0.07450981, 1.        ],\n",
       "        ...,\n",
       "        [0.21568628, 0.12941177, 0.07843138, 1.        ],\n",
       "        [0.21568628, 0.12941177, 0.07843138, 1.        ],\n",
       "        [0.21960784, 0.13333334, 0.08235294, 1.        ]],\n",
       "\n",
       "       [[0.22352941, 0.12941177, 0.07843138, 1.        ],\n",
       "        [0.22745098, 0.13333334, 0.08235294, 1.        ],\n",
       "        [0.22352941, 0.12941177, 0.07843138, 1.        ],\n",
       "        ...,\n",
       "        [0.22352941, 0.13725491, 0.08627451, 1.        ],\n",
       "        [0.21960784, 0.13333334, 0.08235294, 1.        ],\n",
       "        [0.21568628, 0.12941177, 0.07843138, 1.        ]]], dtype=float32)"
      ]
     },
     "execution_count": 8,
     "metadata": {},
     "output_type": "execute_result"
    }
   ],
   "source": [
    "screenshot"
   ]
  },
  {
   "cell_type": "code",
   "execution_count": null,
   "id": "6fe4e645-41a7-417f-ae1d-02384be1ff7a",
   "metadata": {},
   "outputs": [],
   "source": []
  }
 ],
 "metadata": {
  "kernelspec": {
   "display_name": "Python 3 (ipykernel)",
   "language": "python",
   "name": "python3"
  },
  "language_info": {
   "codemirror_mode": {
    "name": "ipython",
    "version": 3
   },
   "file_extension": ".py",
   "mimetype": "text/x-python",
   "name": "python",
   "nbconvert_exporter": "python",
   "pygments_lexer": "ipython3",
   "version": "3.12.4"
  }
 },
 "nbformat": 4,
 "nbformat_minor": 5
}
